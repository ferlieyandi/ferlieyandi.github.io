{
 "cells": [
  {
   "cell_type": "code",
   "execution_count": 67,
   "metadata": {},
   "outputs": [],
   "source": [
    "from tweepy import OAuthHandler\n",
    "from tweepy import API\n",
    "from tweepy import Cursor\n",
    "import tweepy\n",
    "\n",
    "from tweepy import Stream\n",
    "from tweepy.streaming import StreamListener\n",
    "import matplotlib.pyplot as plt\n",
    "import seaborn as sns\n",
    "import pandas as pd\n",
    "import numpy as np\n",
    "%matplotlib inline"
   ]
  },
  {
   "cell_type": "code",
   "execution_count": 68,
   "metadata": {},
   "outputs": [],
   "source": [
    "# twitter App access keys for @user\n",
    " \n",
    "# Consumer\n",
    "CONSUMER_KEY    = \"7VHsv3d67YfHKLrRjplMRBJa0\"\n",
    "CONSUMER_SECRET = \"ZltYoVKttmVFZ2ZrsorQu5CqDpfhHlBZj07JoDMzNgrcRdApVj\"\n",
    " \n",
    "# Access:\n",
    "ACCESS_TOKEN  = \"1151690055733276673-AMtLepEP9DSYD5lGP5O9FnfUgLfcUB\"\n",
    "ACCESS_SECRET = \"3y45eSHO6KQz00vCNTIRs7f3erJprvqo5VDIWnwZiBSvG\""
   ]
  },
  {
   "cell_type": "code",
   "execution_count": 69,
   "metadata": {},
   "outputs": [],
   "source": [
    "# We import our access keys:\n",
    " \n",
    "def twitter_setup():\n",
    "    \n",
    "    auth = tweepy.OAuthHandler(CONSUMER_KEY, CONSUMER_SECRET)\n",
    "    auth.set_access_token(ACCESS_TOKEN, ACCESS_SECRET)\n",
    "    \n",
    "    api = tweepy.API(auth)\n",
    "    return api"
   ]
  },
  {
   "cell_type": "code",
   "execution_count": 70,
   "metadata": {},
   "outputs": [
    {
     "name": "stdout",
     "output_type": "stream",
     "text": [
      "number of tweets extracted: 200.\n",
      "\n",
      "5 recent tweets:\n",
      "\n",
      "@SI8BALL @SpursOfficial 👍🏾 fair play bro. See you guys at your place\n",
      "\n",
      "@SpursOfficial when this thing pops up on the screen.. https://t.co/dCtdaNPrzc\n",
      "\n",
      "Feeling like we deserved so much more than just this point today. No luck to say the least, but many positives to r… https://t.co/H13URgLIxd\n",
      "\n",
      "💙 its all about love https://t.co/Hoh0aBbhmq\n",
      "\n",
      "RT @ManCityFra: 75' @sterling7  🅰️ @Mahrez22 \n",
      "\n",
      "https://t.co/4AoFeemx8f\n",
      "\n"
     ]
    }
   ],
   "source": [
    "extractor = twitter_setup()\n",
    " \n",
    "tweets = extractor.user_timeline(screen_name=\"sterling7\", count = 500)\n",
    "print(\"number of tweets extracted: {}.\\n\".format(len(tweets)))\n",
    " \n",
    "print(\"5 recent tweets:\\n\")\n",
    "for tweet in tweets[:5]:\n",
    "    print(tweet.text)\n",
    "    print()"
   ]
  },
  {
   "cell_type": "code",
   "execution_count": 71,
   "metadata": {},
   "outputs": [
    {
     "data": {
      "text/html": [
       "<div>\n",
       "<style scoped>\n",
       "    .dataframe tbody tr th:only-of-type {\n",
       "        vertical-align: middle;\n",
       "    }\n",
       "\n",
       "    .dataframe tbody tr th {\n",
       "        vertical-align: top;\n",
       "    }\n",
       "\n",
       "    .dataframe thead th {\n",
       "        text-align: right;\n",
       "    }\n",
       "</style>\n",
       "<table border=\"1\" class=\"dataframe\">\n",
       "  <thead>\n",
       "    <tr style=\"text-align: right;\">\n",
       "      <th></th>\n",
       "      <th>tweets</th>\n",
       "    </tr>\n",
       "  </thead>\n",
       "  <tbody>\n",
       "    <tr>\n",
       "      <th>0</th>\n",
       "      <td>@SI8BALL @SpursOfficial 👍🏾 fair play bro. See ...</td>\n",
       "    </tr>\n",
       "    <tr>\n",
       "      <th>1</th>\n",
       "      <td>@SpursOfficial when this thing pops up on the ...</td>\n",
       "    </tr>\n",
       "    <tr>\n",
       "      <th>2</th>\n",
       "      <td>Feeling like we deserved so much more than jus...</td>\n",
       "    </tr>\n",
       "    <tr>\n",
       "      <th>3</th>\n",
       "      <td>💙 its all about love https://t.co/Hoh0aBbhmq</td>\n",
       "    </tr>\n",
       "    <tr>\n",
       "      <th>4</th>\n",
       "      <td>RT @ManCityFra: 75' @sterling7  🅰️ @Mahrez22 \\...</td>\n",
       "    </tr>\n",
       "    <tr>\n",
       "      <th>5</th>\n",
       "      <td>RT @ManCityFra: @gabrieljesus33 @kylewalker2 5...</td>\n",
       "    </tr>\n",
       "    <tr>\n",
       "      <th>6</th>\n",
       "      <td>RT @ManCityFra: Quoi de mieux que de revoir le...</td>\n",
       "    </tr>\n",
       "    <tr>\n",
       "      <th>7</th>\n",
       "      <td>bro why is this VAR ting so mad at meee 😂😂 sti...</td>\n",
       "    </tr>\n",
       "    <tr>\n",
       "      <th>8</th>\n",
       "      <td>@tyers_george @England ❤️❤️</td>\n",
       "    </tr>\n",
       "    <tr>\n",
       "      <th>9</th>\n",
       "      <td>@TheProneBear_ @ManCity @kylewalker2 that was ...</td>\n",
       "    </tr>\n",
       "  </tbody>\n",
       "</table>\n",
       "</div>"
      ],
      "text/plain": [
       "                                              tweets\n",
       "0  @SI8BALL @SpursOfficial 👍🏾 fair play bro. See ...\n",
       "1  @SpursOfficial when this thing pops up on the ...\n",
       "2  Feeling like we deserved so much more than jus...\n",
       "3       💙 its all about love https://t.co/Hoh0aBbhmq\n",
       "4  RT @ManCityFra: 75' @sterling7  🅰️ @Mahrez22 \\...\n",
       "5  RT @ManCityFra: @gabrieljesus33 @kylewalker2 5...\n",
       "6  RT @ManCityFra: Quoi de mieux que de revoir le...\n",
       "7  bro why is this VAR ting so mad at meee 😂😂 sti...\n",
       "8                        @tyers_george @England ❤️❤️\n",
       "9  @TheProneBear_ @ManCity @kylewalker2 that was ..."
      ]
     },
     "metadata": {},
     "output_type": "display_data"
    }
   ],
   "source": [
    "data = pd.DataFrame(data=[tweet.text for tweet in tweets], columns=['tweets'])\n",
    " \n",
    "display(data.head(10))"
   ]
  },
  {
   "cell_type": "code",
   "execution_count": 72,
   "metadata": {},
   "outputs": [
    {
     "name": "stdout",
     "output_type": "stream",
     "text": [
      "['__class__', '__delattr__', '__dict__', '__dir__', '__doc__', '__eq__', '__format__', '__ge__', '__getattribute__', '__getstate__', '__gt__', '__hash__', '__init__', '__init_subclass__', '__le__', '__lt__', '__module__', '__ne__', '__new__', '__reduce__', '__reduce_ex__', '__repr__', '__setattr__', '__sizeof__', '__str__', '__subclasshook__', '__weakref__', '_api', '_json', 'author', 'contributors', 'coordinates', 'created_at', 'destroy', 'entities', 'favorite', 'favorite_count', 'favorited', 'geo', 'id', 'id_str', 'in_reply_to_screen_name', 'in_reply_to_status_id', 'in_reply_to_status_id_str', 'in_reply_to_user_id', 'in_reply_to_user_id_str', 'is_quote_status', 'lang', 'parse', 'parse_list', 'place', 'retweet', 'retweet_count', 'retweeted', 'retweets', 'source', 'source_url', 'text', 'truncated', 'user']\n"
     ]
    }
   ],
   "source": [
    "print(dir(tweets[0]))"
   ]
  },
  {
   "cell_type": "code",
   "execution_count": 73,
   "metadata": {},
   "outputs": [],
   "source": [
    "# Create a second dataframe to put important information\n",
    "tweets_final = pd.DataFrame(columns = [\"created_at\", \"id\", \"in_reply_to_screen_name\", \"in_reply_to_status_id\", \"in_reply_to_user_id\",\n",
    "                                      \"retweeted_id\", \"retweeted_screen_name\", \"user_mentions_screen_name\", \"user_mentions_id\", \n",
    "                                       \"text\", \"user_id\", \"screen_name\", \"followers_count\"])"
   ]
  },
  {
   "cell_type": "code",
   "execution_count": null,
   "metadata": {},
   "outputs": [],
   "source": []
  },
  {
   "cell_type": "code",
   "execution_count": null,
   "metadata": {},
   "outputs": [],
   "source": []
  },
  {
   "cell_type": "code",
   "execution_count": 74,
   "metadata": {},
   "outputs": [
    {
     "name": "stdout",
     "output_type": "stream",
     "text": [
      "1162809293554495488\n",
      "2019-08-17 19:31:54\n",
      "Twitter for iPhone\n",
      "6388\n",
      "328\n",
      "None\n",
      "None\n",
      "{'hashtags': [], 'symbols': [], 'user_mentions': [{'screen_name': 'SI8BALL', 'name': 'Simon Brace', 'id': 108286025, 'id_str': '108286025', 'indices': [0, 8]}, {'screen_name': 'SpursOfficial', 'name': 'Tottenham Hotspur', 'id': 121402638, 'id_str': '121402638', 'indices': [9, 23]}], 'urls': []}\n"
     ]
    }
   ],
   "source": [
    "print(tweets[0].id)\n",
    "print(tweets[0].created_at)\n",
    "print(tweets[0].source)\n",
    "print(tweets[0].favorite_count)\n",
    "print(tweets[0].retweet_count)\n",
    "print(tweets[0].geo)\n",
    "print(tweets[0].coordinates)\n",
    "print(tweets[0].entities)"
   ]
  },
  {
   "cell_type": "code",
   "execution_count": null,
   "metadata": {},
   "outputs": [],
   "source": []
  },
  {
   "cell_type": "code",
   "execution_count": null,
   "metadata": {},
   "outputs": [],
   "source": []
  },
  {
   "cell_type": "code",
   "execution_count": 75,
   "metadata": {},
   "outputs": [],
   "source": [
    "data['len'] = np.array([len(tweet.text) for tweet in tweets])\n",
    "data['ID'] = np.array([tweet.id for tweet in tweets])\n",
    "data['Date'] = np.array([tweet.created_at for tweet in tweets])\n",
    "data['Source'] = np.array([tweet.source for tweet in tweets])\n",
    "data['Likes'] = np.array([tweet.favorite_count for tweet in tweets])\n",
    "data['RTs'] = np.array([tweet.retweet_count for tweet in tweets])"
   ]
  },
  {
   "cell_type": "code",
   "execution_count": 76,
   "metadata": {},
   "outputs": [
    {
     "data": {
      "text/html": [
       "<div>\n",
       "<style scoped>\n",
       "    .dataframe tbody tr th:only-of-type {\n",
       "        vertical-align: middle;\n",
       "    }\n",
       "\n",
       "    .dataframe tbody tr th {\n",
       "        vertical-align: top;\n",
       "    }\n",
       "\n",
       "    .dataframe thead th {\n",
       "        text-align: right;\n",
       "    }\n",
       "</style>\n",
       "<table border=\"1\" class=\"dataframe\">\n",
       "  <thead>\n",
       "    <tr style=\"text-align: right;\">\n",
       "      <th></th>\n",
       "      <th>tweets</th>\n",
       "      <th>len</th>\n",
       "      <th>ID</th>\n",
       "      <th>Date</th>\n",
       "      <th>Source</th>\n",
       "      <th>Likes</th>\n",
       "      <th>RTs</th>\n",
       "    </tr>\n",
       "  </thead>\n",
       "  <tbody>\n",
       "    <tr>\n",
       "      <th>0</th>\n",
       "      <td>@SI8BALL @SpursOfficial 👍🏾 fair play bro. See ...</td>\n",
       "      <td>68</td>\n",
       "      <td>1162809293554495488</td>\n",
       "      <td>2019-08-17 19:31:54</td>\n",
       "      <td>Twitter for iPhone</td>\n",
       "      <td>6388</td>\n",
       "      <td>328</td>\n",
       "    </tr>\n",
       "    <tr>\n",
       "      <th>1</th>\n",
       "      <td>@SpursOfficial when this thing pops up on the ...</td>\n",
       "      <td>78</td>\n",
       "      <td>1162807777271660545</td>\n",
       "      <td>2019-08-17 19:25:52</td>\n",
       "      <td>Twitter for iPhone</td>\n",
       "      <td>18658</td>\n",
       "      <td>2710</td>\n",
       "    </tr>\n",
       "    <tr>\n",
       "      <th>2</th>\n",
       "      <td>Feeling like we deserved so much more than jus...</td>\n",
       "      <td>140</td>\n",
       "      <td>1162801847440203776</td>\n",
       "      <td>2019-08-17 19:02:18</td>\n",
       "      <td>Twitter for iPhone</td>\n",
       "      <td>24995</td>\n",
       "      <td>1799</td>\n",
       "    </tr>\n",
       "    <tr>\n",
       "      <th>3</th>\n",
       "      <td>💙 its all about love https://t.co/Hoh0aBbhmq</td>\n",
       "      <td>44</td>\n",
       "      <td>1161248715677605889</td>\n",
       "      <td>2019-08-13 12:10:43</td>\n",
       "      <td>Twitter for iPhone</td>\n",
       "      <td>24221</td>\n",
       "      <td>1213</td>\n",
       "    </tr>\n",
       "    <tr>\n",
       "      <th>4</th>\n",
       "      <td>RT @ManCityFra: 75' @sterling7  🅰️ @Mahrez22 \\...</td>\n",
       "      <td>70</td>\n",
       "      <td>1160889640251006977</td>\n",
       "      <td>2019-08-12 12:23:53</td>\n",
       "      <td>Twitter for iPhone</td>\n",
       "      <td>0</td>\n",
       "      <td>66</td>\n",
       "    </tr>\n",
       "    <tr>\n",
       "      <th>5</th>\n",
       "      <td>RT @ManCityFra: @gabrieljesus33 @kylewalker2 5...</td>\n",
       "      <td>101</td>\n",
       "      <td>1160889626749542401</td>\n",
       "      <td>2019-08-12 12:23:49</td>\n",
       "      <td>Twitter for iPhone</td>\n",
       "      <td>0</td>\n",
       "      <td>29</td>\n",
       "    </tr>\n",
       "    <tr>\n",
       "      <th>6</th>\n",
       "      <td>RT @ManCityFra: Quoi de mieux que de revoir le...</td>\n",
       "      <td>140</td>\n",
       "      <td>1160889616720945152</td>\n",
       "      <td>2019-08-12 12:23:47</td>\n",
       "      <td>Twitter for iPhone</td>\n",
       "      <td>0</td>\n",
       "      <td>49</td>\n",
       "    </tr>\n",
       "    <tr>\n",
       "      <th>7</th>\n",
       "      <td>bro why is this VAR ting so mad at meee 😂😂 sti...</td>\n",
       "      <td>144</td>\n",
       "      <td>1160204999034572802</td>\n",
       "      <td>2019-08-10 15:03:21</td>\n",
       "      <td>Twitter for iPhone</td>\n",
       "      <td>68028</td>\n",
       "      <td>6997</td>\n",
       "    </tr>\n",
       "    <tr>\n",
       "      <th>8</th>\n",
       "      <td>@tyers_george @England ❤️❤️</td>\n",
       "      <td>27</td>\n",
       "      <td>1158109076003405824</td>\n",
       "      <td>2019-08-04 20:14:55</td>\n",
       "      <td>Twitter for iPhone</td>\n",
       "      <td>3698</td>\n",
       "      <td>104</td>\n",
       "    </tr>\n",
       "    <tr>\n",
       "      <th>9</th>\n",
       "      <td>@TheProneBear_ @ManCity @kylewalker2 that was ...</td>\n",
       "      <td>93</td>\n",
       "      <td>1158065494030782464</td>\n",
       "      <td>2019-08-04 17:21:44</td>\n",
       "      <td>Twitter for iPhone</td>\n",
       "      <td>1107</td>\n",
       "      <td>109</td>\n",
       "    </tr>\n",
       "  </tbody>\n",
       "</table>\n",
       "</div>"
      ],
      "text/plain": [
       "                                              tweets  len  \\\n",
       "0  @SI8BALL @SpursOfficial 👍🏾 fair play bro. See ...   68   \n",
       "1  @SpursOfficial when this thing pops up on the ...   78   \n",
       "2  Feeling like we deserved so much more than jus...  140   \n",
       "3       💙 its all about love https://t.co/Hoh0aBbhmq   44   \n",
       "4  RT @ManCityFra: 75' @sterling7  🅰️ @Mahrez22 \\...   70   \n",
       "5  RT @ManCityFra: @gabrieljesus33 @kylewalker2 5...  101   \n",
       "6  RT @ManCityFra: Quoi de mieux que de revoir le...  140   \n",
       "7  bro why is this VAR ting so mad at meee 😂😂 sti...  144   \n",
       "8                        @tyers_george @England ❤️❤️   27   \n",
       "9  @TheProneBear_ @ManCity @kylewalker2 that was ...   93   \n",
       "\n",
       "                    ID                Date              Source  Likes   RTs  \n",
       "0  1162809293554495488 2019-08-17 19:31:54  Twitter for iPhone   6388   328  \n",
       "1  1162807777271660545 2019-08-17 19:25:52  Twitter for iPhone  18658  2710  \n",
       "2  1162801847440203776 2019-08-17 19:02:18  Twitter for iPhone  24995  1799  \n",
       "3  1161248715677605889 2019-08-13 12:10:43  Twitter for iPhone  24221  1213  \n",
       "4  1160889640251006977 2019-08-12 12:23:53  Twitter for iPhone      0    66  \n",
       "5  1160889626749542401 2019-08-12 12:23:49  Twitter for iPhone      0    29  \n",
       "6  1160889616720945152 2019-08-12 12:23:47  Twitter for iPhone      0    49  \n",
       "7  1160204999034572802 2019-08-10 15:03:21  Twitter for iPhone  68028  6997  \n",
       "8  1158109076003405824 2019-08-04 20:14:55  Twitter for iPhone   3698   104  \n",
       "9  1158065494030782464 2019-08-04 17:21:44  Twitter for iPhone   1107   109  "
      ]
     },
     "metadata": {},
     "output_type": "display_data"
    }
   ],
   "source": [
    "display(data.head(10))"
   ]
  },
  {
   "cell_type": "code",
   "execution_count": 77,
   "metadata": {},
   "outputs": [],
   "source": [
    "data.rename(columns={'Date': 'datetime'}, inplace=True)"
   ]
  },
  {
   "cell_type": "code",
   "execution_count": 78,
   "metadata": {},
   "outputs": [
    {
     "data": {
      "text/html": [
       "<div>\n",
       "<style scoped>\n",
       "    .dataframe tbody tr th:only-of-type {\n",
       "        vertical-align: middle;\n",
       "    }\n",
       "\n",
       "    .dataframe tbody tr th {\n",
       "        vertical-align: top;\n",
       "    }\n",
       "\n",
       "    .dataframe thead th {\n",
       "        text-align: right;\n",
       "    }\n",
       "</style>\n",
       "<table border=\"1\" class=\"dataframe\">\n",
       "  <thead>\n",
       "    <tr style=\"text-align: right;\">\n",
       "      <th></th>\n",
       "      <th>tweets</th>\n",
       "      <th>len</th>\n",
       "      <th>ID</th>\n",
       "      <th>datetime</th>\n",
       "      <th>Source</th>\n",
       "      <th>Likes</th>\n",
       "      <th>RTs</th>\n",
       "    </tr>\n",
       "  </thead>\n",
       "  <tbody>\n",
       "    <tr>\n",
       "      <th>0</th>\n",
       "      <td>@SI8BALL @SpursOfficial 👍🏾 fair play bro. See ...</td>\n",
       "      <td>68</td>\n",
       "      <td>1162809293554495488</td>\n",
       "      <td>2019-08-17 19:31:54</td>\n",
       "      <td>Twitter for iPhone</td>\n",
       "      <td>6388</td>\n",
       "      <td>328</td>\n",
       "    </tr>\n",
       "    <tr>\n",
       "      <th>1</th>\n",
       "      <td>@SpursOfficial when this thing pops up on the ...</td>\n",
       "      <td>78</td>\n",
       "      <td>1162807777271660545</td>\n",
       "      <td>2019-08-17 19:25:52</td>\n",
       "      <td>Twitter for iPhone</td>\n",
       "      <td>18658</td>\n",
       "      <td>2710</td>\n",
       "    </tr>\n",
       "    <tr>\n",
       "      <th>2</th>\n",
       "      <td>Feeling like we deserved so much more than jus...</td>\n",
       "      <td>140</td>\n",
       "      <td>1162801847440203776</td>\n",
       "      <td>2019-08-17 19:02:18</td>\n",
       "      <td>Twitter for iPhone</td>\n",
       "      <td>24995</td>\n",
       "      <td>1799</td>\n",
       "    </tr>\n",
       "    <tr>\n",
       "      <th>3</th>\n",
       "      <td>💙 its all about love https://t.co/Hoh0aBbhmq</td>\n",
       "      <td>44</td>\n",
       "      <td>1161248715677605889</td>\n",
       "      <td>2019-08-13 12:10:43</td>\n",
       "      <td>Twitter for iPhone</td>\n",
       "      <td>24221</td>\n",
       "      <td>1213</td>\n",
       "    </tr>\n",
       "    <tr>\n",
       "      <th>4</th>\n",
       "      <td>RT @ManCityFra: 75' @sterling7  🅰️ @Mahrez22 \\...</td>\n",
       "      <td>70</td>\n",
       "      <td>1160889640251006977</td>\n",
       "      <td>2019-08-12 12:23:53</td>\n",
       "      <td>Twitter for iPhone</td>\n",
       "      <td>0</td>\n",
       "      <td>66</td>\n",
       "    </tr>\n",
       "    <tr>\n",
       "      <th>5</th>\n",
       "      <td>RT @ManCityFra: @gabrieljesus33 @kylewalker2 5...</td>\n",
       "      <td>101</td>\n",
       "      <td>1160889626749542401</td>\n",
       "      <td>2019-08-12 12:23:49</td>\n",
       "      <td>Twitter for iPhone</td>\n",
       "      <td>0</td>\n",
       "      <td>29</td>\n",
       "    </tr>\n",
       "    <tr>\n",
       "      <th>6</th>\n",
       "      <td>RT @ManCityFra: Quoi de mieux que de revoir le...</td>\n",
       "      <td>140</td>\n",
       "      <td>1160889616720945152</td>\n",
       "      <td>2019-08-12 12:23:47</td>\n",
       "      <td>Twitter for iPhone</td>\n",
       "      <td>0</td>\n",
       "      <td>49</td>\n",
       "    </tr>\n",
       "    <tr>\n",
       "      <th>7</th>\n",
       "      <td>bro why is this VAR ting so mad at meee 😂😂 sti...</td>\n",
       "      <td>144</td>\n",
       "      <td>1160204999034572802</td>\n",
       "      <td>2019-08-10 15:03:21</td>\n",
       "      <td>Twitter for iPhone</td>\n",
       "      <td>68028</td>\n",
       "      <td>6997</td>\n",
       "    </tr>\n",
       "    <tr>\n",
       "      <th>8</th>\n",
       "      <td>@tyers_george @England ❤️❤️</td>\n",
       "      <td>27</td>\n",
       "      <td>1158109076003405824</td>\n",
       "      <td>2019-08-04 20:14:55</td>\n",
       "      <td>Twitter for iPhone</td>\n",
       "      <td>3698</td>\n",
       "      <td>104</td>\n",
       "    </tr>\n",
       "    <tr>\n",
       "      <th>9</th>\n",
       "      <td>@TheProneBear_ @ManCity @kylewalker2 that was ...</td>\n",
       "      <td>93</td>\n",
       "      <td>1158065494030782464</td>\n",
       "      <td>2019-08-04 17:21:44</td>\n",
       "      <td>Twitter for iPhone</td>\n",
       "      <td>1107</td>\n",
       "      <td>109</td>\n",
       "    </tr>\n",
       "  </tbody>\n",
       "</table>\n",
       "</div>"
      ],
      "text/plain": [
       "                                              tweets  len  \\\n",
       "0  @SI8BALL @SpursOfficial 👍🏾 fair play bro. See ...   68   \n",
       "1  @SpursOfficial when this thing pops up on the ...   78   \n",
       "2  Feeling like we deserved so much more than jus...  140   \n",
       "3       💙 its all about love https://t.co/Hoh0aBbhmq   44   \n",
       "4  RT @ManCityFra: 75' @sterling7  🅰️ @Mahrez22 \\...   70   \n",
       "5  RT @ManCityFra: @gabrieljesus33 @kylewalker2 5...  101   \n",
       "6  RT @ManCityFra: Quoi de mieux que de revoir le...  140   \n",
       "7  bro why is this VAR ting so mad at meee 😂😂 sti...  144   \n",
       "8                        @tyers_george @England ❤️❤️   27   \n",
       "9  @TheProneBear_ @ManCity @kylewalker2 that was ...   93   \n",
       "\n",
       "                    ID            datetime              Source  Likes   RTs  \n",
       "0  1162809293554495488 2019-08-17 19:31:54  Twitter for iPhone   6388   328  \n",
       "1  1162807777271660545 2019-08-17 19:25:52  Twitter for iPhone  18658  2710  \n",
       "2  1162801847440203776 2019-08-17 19:02:18  Twitter for iPhone  24995  1799  \n",
       "3  1161248715677605889 2019-08-13 12:10:43  Twitter for iPhone  24221  1213  \n",
       "4  1160889640251006977 2019-08-12 12:23:53  Twitter for iPhone      0    66  \n",
       "5  1160889626749542401 2019-08-12 12:23:49  Twitter for iPhone      0    29  \n",
       "6  1160889616720945152 2019-08-12 12:23:47  Twitter for iPhone      0    49  \n",
       "7  1160204999034572802 2019-08-10 15:03:21  Twitter for iPhone  68028  6997  \n",
       "8  1158109076003405824 2019-08-04 20:14:55  Twitter for iPhone   3698   104  \n",
       "9  1158065494030782464 2019-08-04 17:21:44  Twitter for iPhone   1107   109  "
      ]
     },
     "metadata": {},
     "output_type": "display_data"
    }
   ],
   "source": [
    "display(data.head(10))"
   ]
  },
  {
   "cell_type": "code",
   "execution_count": 79,
   "metadata": {},
   "outputs": [
    {
     "data": {
      "image/png": "[encoded data removed]",
      "text/plain": [
       "<Figure size 432x288 with 1 Axes>"
      ]
     },
     "metadata": {
      "needs_background": "light"
     },
     "output_type": "display_data"
    }
   ],
   "source": [
    "year = data['RTs']\n",
    "sea_levels = data['len']\n",
    "plt.scatter(year, sea_levels, edgecolors='r')\n",
    "plt.xlabel('Likes')\n",
    "plt.ylabel('Length')\n",
    "plt.title('Like vs Length')\n",
    "plt.show()"
   ]
  },
  {
   "cell_type": "code",
   "execution_count": 80,
   "metadata": {},
   "outputs": [
    {
     "name": "stdout",
     "output_type": "stream",
     "text": [
      "the length's average in tweets: 80.67\n"
     ]
    }
   ],
   "source": [
    "mean = np.mean(data['len'])\n",
    "print(\"the length's average in tweets: {}\".format(mean))"
   ]
  },
  {
   "cell_type": "code",
   "execution_count": 81,
   "metadata": {},
   "outputs": [
    {
     "name": "stdout",
     "output_type": "stream",
     "text": [
      "the tweet with more likes is: \n",
      "Best way to silence the haters (and yeah I mean racists) 🙉😘 #2019 #getsomeeducation https://t.co/ohhkOJtdey\n",
      "Number of likes: 405748\n",
      "107 character.\n",
      "\n",
      "The tweet with more retweets is: \n",
      "Best way to silence the haters (and yeah I mean racists) 🙉😘 #2019 #getsomeeducation https://t.co/ohhkOJtdey\n",
      "Number of retweets: 89598\n",
      "107 character.\n",
      "\n"
     ]
    }
   ],
   "source": [
    "# We extract the tweet with more FAVs and mote RTs:\n",
    " \n",
    "fav_max = np.max(data['Likes'])\n",
    "rt_max = np.max(data['RTs'])\n",
    " \n",
    "fav = data[data.Likes == fav_max].index[0]\n",
    "rt = data[data.RTs == rt_max].index[0]\n",
    " \n",
    "# Max FAVs:\n",
    "print(\"the tweet with more likes is: \\n{}\".format(data['tweets'][fav]))\n",
    "print(\"Number of likes: {}\".format(fav_max))\n",
    "print(\"{} character.\\n\".format(data['len'][fav]))\n",
    " \n",
    "# Max RTs:\n",
    "print(\"The tweet with more retweets is: \\n{}\".format(data['tweets'][rt]))\n",
    "print(\"Number of retweets: {}\".format(rt_max))\n",
    "print(\"{} character.\\n\".format(data['len'][rt]))"
   ]
  },
  {
   "cell_type": "code",
   "execution_count": 82,
   "metadata": {},
   "outputs": [],
   "source": [
    "tlen = pd.Series(data = data['len'].values)   #, index=data['Data'])\n",
    "tfav = pd.Series(data = data['Likes'].values)   #, index=data['Data'])\n",
    "tret = pd.Series(data = data['RTs'].values) #, index=data['Data']"
   ]
  },
  {
   "cell_type": "code",
   "execution_count": 83,
   "metadata": {},
   "outputs": [
    {
     "data": {
      "image/png": "[encoded data removed]",
      "text/plain": [
       "<Figure size 1152x288 with 1 Axes>"
      ]
     },
     "metadata": {
      "needs_background": "light"
     },
     "output_type": "display_data"
    }
   ],
   "source": [
    "# Lenghts along time:\n",
    "tlen.plot(figsize=(16,4), color='r');"
   ]
  },
  {
   "cell_type": "code",
   "execution_count": 91,
   "metadata": {},
   "outputs": [
    {
     "data": {
      "text/plain": [
       "Text(0.5, 1.0, 'Perbandingan Likes dan RT Akun Raheem Sterling')"
      ]
     },
     "execution_count": 91,
     "metadata": {},
     "output_type": "execute_result"
    },
    {
     "data": {
      "image/png": "[encoded data removed]",
      "text/plain": [
       "<Figure size 1152x288 with 1 Axes>"
      ]
     },
     "metadata": {
      "needs_background": "light"
     },
     "output_type": "display_data"
    }
   ],
   "source": [
    "# Likes vs retweets visualization:\n",
    "tfav.plot(figsize=(16,4), label=\"Likes\", legend=True)\n",
    "tret.plot(figsize=(16,4), label=\"Retweets\", legend=True);\n",
    "plt.title('Perbandingan Likes dan RT Akun Raheem Sterling')"
   ]
  },
  {
   "cell_type": "code",
   "execution_count": null,
   "metadata": {},
   "outputs": [],
   "source": []
  },
  {
   "cell_type": "code",
   "execution_count": 85,
   "metadata": {},
   "outputs": [
    {
     "name": "stdout",
     "output_type": "stream",
     "text": [
      "Creation of content sources:\n",
      "* Twitter for iPhone\n",
      "* Twitter Web App\n",
      "* Twitter Web Client\n",
      "* TweetDeck\n"
     ]
    }
   ],
   "source": [
    "# We obtain all possible sources:\n",
    "sources = []\n",
    "for source in data['Source']:\n",
    "    if source not in sources:\n",
    "        sources.append(source)\n",
    " \n",
    "# We print sources list:\n",
    "print(\"Creation of content sources:\")\n",
    "for source in sources:\n",
    "    print(\"* {}\".format(source))"
   ]
  },
  {
   "cell_type": "code",
   "execution_count": 94,
   "metadata": {},
   "outputs": [
    {
     "data": {
      "text/plain": [
       "Text(0.5, 1.0, 'Sumber tweet Raheem Sterling')"
      ]
     },
     "execution_count": 94,
     "metadata": {},
     "output_type": "execute_result"
    },
    {
     "data": {
      "image/png": "[encoded data removed]",
      "text/plain": [
       "<Figure size 432x432 with 1 Axes>"
      ]
     },
     "metadata": {},
     "output_type": "display_data"
    }
   ],
   "source": [
    "# We create a numpy vector mapped to labels:\n",
    "percent = np.zeros(len(sources))\n",
    " \n",
    "for source in data['Source']:\n",
    "    for index in range(len(sources)):\n",
    "        if source == sources[index]:\n",
    "            percent[index] += 1\n",
    "            pass\n",
    " \n",
    "percent /= 100\n",
    " \n",
    "# Pie chart:\n",
    "pie_chart = pd.Series(percent, index=sources, name='Sources')\n",
    "pie_chart.plot.pie(fontsize=11, autopct='%.2f', figsize=(6, 6));\n",
    "plt.title('Sumber tweet Raheem Sterling')"
   ]
  },
  {
   "cell_type": "code",
   "execution_count": 59,
   "metadata": {},
   "outputs": [],
   "source": [
    "from textblob import TextBlob\n",
    "import re\n",
    " \n",
    "def clean_tweet(tweet):\n",
    "    '''\n",
    "    Utility function to clean the text in a tweet by removing \n",
    "    links and special characters using regex.\n",
    "    '''\n",
    "    return ' '.join(re.sub(\"(@[A-Za-z0-9]+)|([^0-9A-Za-z \\t])|(\\w+:\\/\\/\\S+)\", \" \", tweet).split())\n",
    " \n",
    "def analize_sentiment(tweet):\n",
    "    '''\n",
    "    Utility function to classify the polarity of a tweet\n",
    "    using textblob.\n",
    "    '''\n",
    "    analys = TextBlob(clean_tweet(tweet))\n",
    "    \n",
    "    if analys.sentiment.polarity > 0:\n",
    "        return 1\n",
    "    elif analys.sentiment.polarity == 0:\n",
    "        return 0\n",
    "    else:\n",
    "        return -1\n",
    "    "
   ]
  },
  {
   "cell_type": "code",
   "execution_count": 87,
   "metadata": {},
   "outputs": [],
   "source": [
    "import numpy  as np\n",
    "from bokeh.models import ColumnDataSource\n",
    "from bokeh.plotting import figure, output_file, show\n",
    "from bokeh.plotting import figure\n",
    "import bokeh\n",
    "import pandas as pd\n",
    "from datetime import datetime as dt"
   ]
  },
  {
   "cell_type": "code",
   "execution_count": 88,
   "metadata": {},
   "outputs": [],
   "source": [
    "def autoconvert_datetime(value):\n",
    "    formats = ['%m/%d/%Y', '%m-%d-%y']  # formats to try\n",
    "    result_format = '%d-%m-%Y'  # output format\n",
    "    for dt_format in formats:\n",
    "        try:\n",
    "            dt_obj = datetime.strptime(value, dt_format)\n",
    "            return dt_obj.strftime(result_format)\n",
    "        except Exception as e:  # throws exception when format doesn't match\n",
    "            pass\n",
    "    return value  # let it be if it doesn't match\n",
    "\n",
    "data['datetime'] = data['datetime'].apply(autoconvert_datetime)"
   ]
  },
  {
   "cell_type": "code",
   "execution_count": 89,
   "metadata": {},
   "outputs": [],
   "source": [
    "data['datetime'] = pd.to_datetime(data['datetime'], unit='s')"
   ]
  },
  {
   "cell_type": "code",
   "execution_count": 92,
   "metadata": {},
   "outputs": [],
   "source": [
    "# Convert date column in df from strings to the proper datetime format\n",
    "date_format=\"%Y-%m-%d\"\n",
    "data[\"datetime\"] = pd.to_datetime(data['datetime'], format=date_format)\n",
    "# Use the same conversion for selected dates\n",
    "output_file(\"Panjang.html\")\n",
    "weekapple = data[(data.datetime>=dt.strptime(\"2019-07-29\", date_format)) & \n",
    "               (data.datetime<=dt.strptime(\"2019-08-18\", date_format))]\n",
    "\n",
    "p = figure(x_axis_type=\"datetime\", title=\"Time Series Jumlah Kata dalam Tweet Raheem Sterling\", plot_height=350, plot_width=800)\n",
    "p.xgrid.grid_line_color=None\n",
    "p.ygrid.grid_line_alpha=0.5\n",
    "p.xaxis.axis_label = 'Time'\n",
    "p.yaxis.axis_label = 'Value'\n",
    "p.line(weekapple.datetime, weekapple.len)\n",
    "show(p)\n",
    "\n"
   ]
  },
  {
   "cell_type": "code",
   "execution_count": null,
   "metadata": {},
   "outputs": [],
   "source": [
    "source = ColumnDataSource(df)\n",
    "\n",
    "l = figure(title=\"Historic Inflation Metrics\", logo=None)\n",
    "\n",
    "glyph_1 = l.line('Date','RPI',source=source, legend='RPI', color='red')\n",
    "l.line('Date','CPI',source=source, legend='CPI', color='blue')\n",
    "l.line('Date','CPIH',source=source, legend='CPIH', color='gold')\n",
    "\n",
    "hover = HoverTool(renderers=[glyph_1],\n",
    "                 tooltips=[     (\"Date\",\"@Date{%F}\"),\n",
    "                                (\"RPI\",\"@RPI\"),\n",
    "                                (\"CPI\",\"@CPI\"),\n",
    "                                (\"CPIH\",\"@CPIH\")],\n",
    "                          formatters={\"Date\": \"datetime\"},\n",
    "                      mode='vline'\n",
    "                 )\n",
    "\n",
    "show(l)"
   ]
  },
  {
   "cell_type": "code",
   "execution_count": 44,
   "metadata": {},
   "outputs": [
    {
     "data": {
      "text/plain": [
       "RangeIndex(start=0, stop=200, step=1)"
      ]
     },
     "execution_count": 44,
     "metadata": {},
     "output_type": "execute_result"
    }
   ],
   "source": [
    "data.index"
   ]
  },
  {
   "cell_type": "code",
   "execution_count": null,
   "metadata": {},
   "outputs": [],
   "source": []
  },
  {
   "cell_type": "code",
   "execution_count": 56,
   "metadata": {},
   "outputs": [
    {
     "data": {
      "text/plain": [
       "tweets              object\n",
       "len                  int32\n",
       "ID                   int64\n",
       "datetime    datetime64[ns]\n",
       "Source              object\n",
       "Likes                int32\n",
       "RTs                  int32\n",
       "dtype: object"
      ]
     },
     "execution_count": 56,
     "metadata": {},
     "output_type": "execute_result"
    }
   ],
   "source": [
    "data.dtypes"
   ]
  },
  {
   "cell_type": "code",
   "execution_count": 94,
   "metadata": {},
   "outputs": [],
   "source": [
    "from bokeh.io import show, output_file\n",
    "from bokeh.models import ColumnDataSource, Legend, LegendItem, Scatter\n",
    "from bokeh.plotting import figure, output_file, show, output_notebook\n",
    "from bokeh.models.tools import HoverTool\n",
    "from bokeh.core.properties import value\n",
    "from bokeh.palettes import Spectral10, Category20, Category20_17, inferno, magma, viridis\n",
    "import matplotlib.pyplot as plt\n",
    "from bokeh.transform import jitter"
   ]
  },
  {
   "cell_type": "code",
   "execution_count": 99,
   "metadata": {},
   "outputs": [],
   "source": [
    "ax = data.groupby('datetime').size().reset_index()\n",
    "ax.columns = ['datetime', 'len']"
   ]
  },
  {
   "cell_type": "code",
   "execution_count": 100,
   "metadata": {},
   "outputs": [],
   "source": [
    "TOOLS = \"pan, wheel_zoom, box_zoom, box_select,reset, save\" # the tools you want to add to your graph\n",
    "source = ColumnDataSource(ax) # data for the graph"
   ]
  },
  {
   "cell_type": "code",
   "execution_count": 101,
   "metadata": {},
   "outputs": [
    {
     "data": {
      "text/html": [
       "\n",
       "    <div class=\"bk-root\">\n",
       "        <a href=\"https://bokeh.pydata.org\" target=\"_blank\" class=\"bk-logo bk-logo-small bk-logo-notebook\"></a>\n",
       "        <span id=\"2465\">Loading BokehJS ...</span>\n",
       "    </div>"
      ]
     },
     "metadata": {},
     "output_type": "display_data"
    },
    {
     "data": {
      "application/javascript": [
       "\n",
       "(function(root) {\n",
       "  function now() {\n",
       "    return new Date();\n",
       "  }\n",
       "\n",
       "  var force = true;\n",
       "\n",
       "  if (typeof (root._bokeh_onload_callbacks) === \"undefined\" || force === true) {\n",
       "    root._bokeh_onload_callbacks = [];\n",
       "    root._bokeh_is_loading = undefined;\n",
       "  }\n",
       "\n",
       "  var JS_MIME_TYPE = 'application/javascript';\n",
       "  var HTML_MIME_TYPE = 'text/html';\n",
       "  var EXEC_MIME_TYPE = 'application/vnd.bokehjs_exec.v0+json';\n",
       "  var CLASS_NAME = 'output_bokeh rendered_html';\n",
       "\n",
       "  /**\n",
       "   * Render data to the DOM node\n",
       "   */\n",
       "  function render(props, node) {\n",
       "    var script = document.createElement(\"script\");\n",
       "    node.appendChild(script);\n",
       "  }\n",
       "\n",
       "  /**\n",
       "   * Handle when an output is cleared or removed\n",
       "   */\n",
       "  function handleClearOutput(event, handle) {\n",
       "    var cell = handle.cell;\n",
       "\n",
       "    var id = cell.output_area._bokeh_element_id;\n",
       "    var server_id = cell.output_area._bokeh_server_id;\n",
       "    // Clean up Bokeh references\n",
       "    if (id != null && id in Bokeh.index) {\n",
       "      Bokeh.index[id].model.document.clear();\n",
       "      delete Bokeh.index[id];\n",
       "    }\n",
       "\n",
       "    if (server_id !== undefined) {\n",
       "      // Clean up Bokeh references\n",
       "      var cmd = \"from bokeh.io.state import curstate; print(curstate().uuid_to_server['\" + server_id + \"'].get_sessions()[0].document.roots[0]._id)\";\n",
       "      cell.notebook.kernel.execute(cmd, {\n",
       "        iopub: {\n",
       "          output: function(msg) {\n",
       "            var id = msg.content.text.trim();\n",
       "            if (id in Bokeh.index) {\n",
       "              Bokeh.index[id].model.document.clear();\n",
       "              delete Bokeh.index[id];\n",
       "            }\n",
       "          }\n",
       "        }\n",
       "      });\n",
       "      // Destroy server and session\n",
       "      var cmd = \"import bokeh.io.notebook as ion; ion.destroy_server('\" + server_id + \"')\";\n",
       "      cell.notebook.kernel.execute(cmd);\n",
       "    }\n",
       "  }\n",
       "\n",
       "  /**\n",
       "   * Handle when a new output is added\n",
       "   */\n",
       "  function handleAddOutput(event, handle) {\n",
       "    var output_area = handle.output_area;\n",
       "    var output = handle.output;\n",
       "\n",
       "    // limit handleAddOutput to display_data with EXEC_MIME_TYPE content only\n",
       "    if ((output.output_type != \"display_data\") || (!output.data.hasOwnProperty(EXEC_MIME_TYPE))) {\n",
       "      return\n",
       "    }\n",
       "\n",
       "    var toinsert = output_area.element.find(\".\" + CLASS_NAME.split(' ')[0]);\n",
       "\n",
       "    if (output.metadata[EXEC_MIME_TYPE][\"id\"] !== undefined) {\n",
       "      toinsert[toinsert.length - 1].firstChild.textContent = output.data[JS_MIME_TYPE];\n",
       "      // store reference to embed id on output_area\n",
       "      output_area._bokeh_element_id = output.metadata[EXEC_MIME_TYPE][\"id\"];\n",
       "    }\n",
       "    if (output.metadata[EXEC_MIME_TYPE][\"server_id\"] !== undefined) {\n",
       "      var bk_div = document.createElement(\"div\");\n",
       "      bk_div.innerHTML = output.data[HTML_MIME_TYPE];\n",
       "      var script_attrs = bk_div.children[0].attributes;\n",
       "      for (var i = 0; i < script_attrs.length; i++) {\n",
       "        toinsert[toinsert.length - 1].firstChild.setAttribute(script_attrs[i].name, script_attrs[i].value);\n",
       "      }\n",
       "      // store reference to server id on output_area\n",
       "      output_area._bokeh_server_id = output.metadata[EXEC_MIME_TYPE][\"server_id\"];\n",
       "    }\n",
       "  }\n",
       "\n",
       "  function register_renderer(events, OutputArea) {\n",
       "\n",
       "    function append_mime(data, metadata, element) {\n",
       "      // create a DOM node to render to\n",
       "      var toinsert = this.create_output_subarea(\n",
       "        metadata,\n",
       "        CLASS_NAME,\n",
       "        EXEC_MIME_TYPE\n",
       "      );\n",
       "      this.keyboard_manager.register_events(toinsert);\n",
       "      // Render to node\n",
       "      var props = {data: data, metadata: metadata[EXEC_MIME_TYPE]};\n",
       "      render(props, toinsert[toinsert.length - 1]);\n",
       "      element.append(toinsert);\n",
       "      return toinsert\n",
       "    }\n",
       "\n",
       "    /* Handle when an output is cleared or removed */\n",
       "    events.on('clear_output.CodeCell', handleClearOutput);\n",
       "    events.on('delete.Cell', handleClearOutput);\n",
       "\n",
       "    /* Handle when a new output is added */\n",
       "    events.on('output_added.OutputArea', handleAddOutput);\n",
       "\n",
       "    /**\n",
       "     * Register the mime type and append_mime function with output_area\n",
       "     */\n",
       "    OutputArea.prototype.register_mime_type(EXEC_MIME_TYPE, append_mime, {\n",
       "      /* Is output safe? */\n",
       "      safe: true,\n",
       "      /* Index of renderer in `output_area.display_order` */\n",
       "      index: 0\n",
       "    });\n",
       "  }\n",
       "\n",
       "  // register the mime type if in Jupyter Notebook environment and previously unregistered\n",
       "  if (root.Jupyter !== undefined) {\n",
       "    var events = require('base/js/events');\n",
       "    var OutputArea = require('notebook/js/outputarea').OutputArea;\n",
       "\n",
       "    if (OutputArea.prototype.mime_types().indexOf(EXEC_MIME_TYPE) == -1) {\n",
       "      register_renderer(events, OutputArea);\n",
       "    }\n",
       "  }\n",
       "\n",
       "  \n",
       "  if (typeof (root._bokeh_timeout) === \"undefined\" || force === true) {\n",
       "    root._bokeh_timeout = Date.now() + 5000;\n",
       "    root._bokeh_failed_load = false;\n",
       "  }\n",
       "\n",
       "  var NB_LOAD_WARNING = {'data': {'text/html':\n",
       "     \"<div style='background-color: #fdd'>\\n\"+\n",
       "     \"<p>\\n\"+\n",
       "     \"BokehJS does not appear to have successfully loaded. If loading BokehJS from CDN, this \\n\"+\n",
       "     \"may be due to a slow or bad network connection. Possible fixes:\\n\"+\n",
       "     \"</p>\\n\"+\n",
       "     \"<ul>\\n\"+\n",
       "     \"<li>re-rerun `output_notebook()` to attempt to load from CDN again, or</li>\\n\"+\n",
       "     \"<li>use INLINE resources instead, as so:</li>\\n\"+\n",
       "     \"</ul>\\n\"+\n",
       "     \"<code>\\n\"+\n",
       "     \"from bokeh.resources import INLINE\\n\"+\n",
       "     \"output_notebook(resources=INLINE)\\n\"+\n",
       "     \"</code>\\n\"+\n",
       "     \"</div>\"}};\n",
       "\n",
       "  function display_loaded() {\n",
       "    var el = document.getElementById(\"2465\");\n",
       "    if (el != null) {\n",
       "      el.textContent = \"BokehJS is loading...\";\n",
       "    }\n",
       "    if (root.Bokeh !== undefined) {\n",
       "      if (el != null) {\n",
       "        el.textContent = \"BokehJS \" + root.Bokeh.version + \" successfully loaded.\";\n",
       "      }\n",
       "    } else if (Date.now() < root._bokeh_timeout) {\n",
       "      setTimeout(display_loaded, 100)\n",
       "    }\n",
       "  }\n",
       "\n",
       "\n",
       "  function run_callbacks() {\n",
       "    try {\n",
       "      root._bokeh_onload_callbacks.forEach(function(callback) { callback() });\n",
       "    }\n",
       "    finally {\n",
       "      delete root._bokeh_onload_callbacks\n",
       "    }\n",
       "    console.info(\"Bokeh: all callbacks have finished\");\n",
       "  }\n",
       "\n",
       "  function load_libs(js_urls, callback) {\n",
       "    root._bokeh_onload_callbacks.push(callback);\n",
       "    if (root._bokeh_is_loading > 0) {\n",
       "      console.log(\"Bokeh: BokehJS is being loaded, scheduling callback at\", now());\n",
       "      return null;\n",
       "    }\n",
       "    if (js_urls == null || js_urls.length === 0) {\n",
       "      run_callbacks();\n",
       "      return null;\n",
       "    }\n",
       "    console.log(\"Bokeh: BokehJS not loaded, scheduling load and callback at\", now());\n",
       "    root._bokeh_is_loading = js_urls.length;\n",
       "    for (var i = 0; i < js_urls.length; i++) {\n",
       "      var url = js_urls[i];\n",
       "      var s = document.createElement('script');\n",
       "      s.src = url;\n",
       "      s.async = false;\n",
       "      s.onreadystatechange = s.onload = function() {\n",
       "        root._bokeh_is_loading--;\n",
       "        if (root._bokeh_is_loading === 0) {\n",
       "          console.log(\"Bokeh: all BokehJS libraries loaded\");\n",
       "          run_callbacks()\n",
       "        }\n",
       "      };\n",
       "      s.onerror = function() {\n",
       "        console.warn(\"failed to load library \" + url);\n",
       "      };\n",
       "      console.log(\"Bokeh: injecting script tag for BokehJS library: \", url);\n",
       "      document.getElementsByTagName(\"head\")[0].appendChild(s);\n",
       "    }\n",
       "  };var element = document.getElementById(\"2465\");\n",
       "  if (element == null) {\n",
       "    console.log(\"Bokeh: ERROR: autoload.js configured with elementid '2465' but no matching script tag was found. \")\n",
       "    return false;\n",
       "  }\n",
       "\n",
       "  var js_urls = [\"https://cdn.pydata.org/bokeh/release/bokeh-1.0.4.min.js\", \"https://cdn.pydata.org/bokeh/release/bokeh-widgets-1.0.4.min.js\", \"https://cdn.pydata.org/bokeh/release/bokeh-tables-1.0.4.min.js\", \"https://cdn.pydata.org/bokeh/release/bokeh-gl-1.0.4.min.js\"];\n",
       "\n",
       "  var inline_js = [\n",
       "    function(Bokeh) {\n",
       "      Bokeh.set_log_level(\"info\");\n",
       "    },\n",
       "    \n",
       "    function(Bokeh) {\n",
       "      \n",
       "    },\n",
       "    function(Bokeh) {\n",
       "      console.log(\"Bokeh: injecting CSS: https://cdn.pydata.org/bokeh/release/bokeh-1.0.4.min.css\");\n",
       "      Bokeh.embed.inject_css(\"https://cdn.pydata.org/bokeh/release/bokeh-1.0.4.min.css\");\n",
       "      console.log(\"Bokeh: injecting CSS: https://cdn.pydata.org/bokeh/release/bokeh-widgets-1.0.4.min.css\");\n",
       "      Bokeh.embed.inject_css(\"https://cdn.pydata.org/bokeh/release/bokeh-widgets-1.0.4.min.css\");\n",
       "      console.log(\"Bokeh: injecting CSS: https://cdn.pydata.org/bokeh/release/bokeh-tables-1.0.4.min.css\");\n",
       "      Bokeh.embed.inject_css(\"https://cdn.pydata.org/bokeh/release/bokeh-tables-1.0.4.min.css\");\n",
       "    }\n",
       "  ];\n",
       "\n",
       "  function run_inline_js() {\n",
       "    \n",
       "    if ((root.Bokeh !== undefined) || (force === true)) {\n",
       "      for (var i = 0; i < inline_js.length; i++) {\n",
       "        inline_js[i].call(root, root.Bokeh);\n",
       "      }if (force === true) {\n",
       "        display_loaded();\n",
       "      }} else if (Date.now() < root._bokeh_timeout) {\n",
       "      setTimeout(run_inline_js, 100);\n",
       "    } else if (!root._bokeh_failed_load) {\n",
       "      console.log(\"Bokeh: BokehJS failed to load within specified timeout.\");\n",
       "      root._bokeh_failed_load = true;\n",
       "    } else if (force !== true) {\n",
       "      var cell = $(document.getElementById(\"2465\")).parents('.cell').data().cell;\n",
       "      cell.output_area.append_execute_result(NB_LOAD_WARNING)\n",
       "    }\n",
       "\n",
       "  }\n",
       "\n",
       "  if (root._bokeh_is_loading === 0) {\n",
       "    console.log(\"Bokeh: BokehJS loaded, going straight to plotting\");\n",
       "    run_inline_js();\n",
       "  } else {\n",
       "    load_libs(js_urls, function() {\n",
       "      console.log(\"Bokeh: BokehJS plotting callback run at\", now());\n",
       "      run_inline_js();\n",
       "    });\n",
       "  }\n",
       "}(window));"
      ],
      "application/vnd.bokehjs_load.v0+json": "\n(function(root) {\n  function now() {\n    return new Date();\n  }\n\n  var force = true;\n\n  if (typeof (root._bokeh_onload_callbacks) === \"undefined\" || force === true) {\n    root._bokeh_onload_callbacks = [];\n    root._bokeh_is_loading = undefined;\n  }\n\n  \n\n  \n  if (typeof (root._bokeh_timeout) === \"undefined\" || force === true) {\n    root._bokeh_timeout = Date.now() + 5000;\n    root._bokeh_failed_load = false;\n  }\n\n  var NB_LOAD_WARNING = {'data': {'text/html':\n     \"<div style='background-color: #fdd'>\\n\"+\n     \"<p>\\n\"+\n     \"BokehJS does not appear to have successfully loaded. If loading BokehJS from CDN, this \\n\"+\n     \"may be due to a slow or bad network connection. Possible fixes:\\n\"+\n     \"</p>\\n\"+\n     \"<ul>\\n\"+\n     \"<li>re-rerun `output_notebook()` to attempt to load from CDN again, or</li>\\n\"+\n     \"<li>use INLINE resources instead, as so:</li>\\n\"+\n     \"</ul>\\n\"+\n     \"<code>\\n\"+\n     \"from bokeh.resources import INLINE\\n\"+\n     \"output_notebook(resources=INLINE)\\n\"+\n     \"</code>\\n\"+\n     \"</div>\"}};\n\n  function display_loaded() {\n    var el = document.getElementById(\"2465\");\n    if (el != null) {\n      el.textContent = \"BokehJS is loading...\";\n    }\n    if (root.Bokeh !== undefined) {\n      if (el != null) {\n        el.textContent = \"BokehJS \" + root.Bokeh.version + \" successfully loaded.\";\n      }\n    } else if (Date.now() < root._bokeh_timeout) {\n      setTimeout(display_loaded, 100)\n    }\n  }\n\n\n  function run_callbacks() {\n    try {\n      root._bokeh_onload_callbacks.forEach(function(callback) { callback() });\n    }\n    finally {\n      delete root._bokeh_onload_callbacks\n    }\n    console.info(\"Bokeh: all callbacks have finished\");\n  }\n\n  function load_libs(js_urls, callback) {\n    root._bokeh_onload_callbacks.push(callback);\n    if (root._bokeh_is_loading > 0) {\n      console.log(\"Bokeh: BokehJS is being loaded, scheduling callback at\", now());\n      return null;\n    }\n    if (js_urls == null || js_urls.length === 0) {\n      run_callbacks();\n      return null;\n    }\n    console.log(\"Bokeh: BokehJS not loaded, scheduling load and callback at\", now());\n    root._bokeh_is_loading = js_urls.length;\n    for (var i = 0; i < js_urls.length; i++) {\n      var url = js_urls[i];\n      var s = document.createElement('script');\n      s.src = url;\n      s.async = false;\n      s.onreadystatechange = s.onload = function() {\n        root._bokeh_is_loading--;\n        if (root._bokeh_is_loading === 0) {\n          console.log(\"Bokeh: all BokehJS libraries loaded\");\n          run_callbacks()\n        }\n      };\n      s.onerror = function() {\n        console.warn(\"failed to load library \" + url);\n      };\n      console.log(\"Bokeh: injecting script tag for BokehJS library: \", url);\n      document.getElementsByTagName(\"head\")[0].appendChild(s);\n    }\n  };var element = document.getElementById(\"2465\");\n  if (element == null) {\n    console.log(\"Bokeh: ERROR: autoload.js configured with elementid '2465' but no matching script tag was found. \")\n    return false;\n  }\n\n  var js_urls = [\"https://cdn.pydata.org/bokeh/release/bokeh-1.0.4.min.js\", \"https://cdn.pydata.org/bokeh/release/bokeh-widgets-1.0.4.min.js\", \"https://cdn.pydata.org/bokeh/release/bokeh-tables-1.0.4.min.js\", \"https://cdn.pydata.org/bokeh/release/bokeh-gl-1.0.4.min.js\"];\n\n  var inline_js = [\n    function(Bokeh) {\n      Bokeh.set_log_level(\"info\");\n    },\n    \n    function(Bokeh) {\n      \n    },\n    function(Bokeh) {\n      console.log(\"Bokeh: injecting CSS: https://cdn.pydata.org/bokeh/release/bokeh-1.0.4.min.css\");\n      Bokeh.embed.inject_css(\"https://cdn.pydata.org/bokeh/release/bokeh-1.0.4.min.css\");\n      console.log(\"Bokeh: injecting CSS: https://cdn.pydata.org/bokeh/release/bokeh-widgets-1.0.4.min.css\");\n      Bokeh.embed.inject_css(\"https://cdn.pydata.org/bokeh/release/bokeh-widgets-1.0.4.min.css\");\n      console.log(\"Bokeh: injecting CSS: https://cdn.pydata.org/bokeh/release/bokeh-tables-1.0.4.min.css\");\n      Bokeh.embed.inject_css(\"https://cdn.pydata.org/bokeh/release/bokeh-tables-1.0.4.min.css\");\n    }\n  ];\n\n  function run_inline_js() {\n    \n    if ((root.Bokeh !== undefined) || (force === true)) {\n      for (var i = 0; i < inline_js.length; i++) {\n        inline_js[i].call(root, root.Bokeh);\n      }if (force === true) {\n        display_loaded();\n      }} else if (Date.now() < root._bokeh_timeout) {\n      setTimeout(run_inline_js, 100);\n    } else if (!root._bokeh_failed_load) {\n      console.log(\"Bokeh: BokehJS failed to load within specified timeout.\");\n      root._bokeh_failed_load = true;\n    } else if (force !== true) {\n      var cell = $(document.getElementById(\"2465\")).parents('.cell').data().cell;\n      cell.output_area.append_execute_result(NB_LOAD_WARNING)\n    }\n\n  }\n\n  if (root._bokeh_is_loading === 0) {\n    console.log(\"Bokeh: BokehJS loaded, going straight to plotting\");\n    run_inline_js();\n  } else {\n    load_libs(js_urls, function() {\n      console.log(\"Bokeh: BokehJS plotting callback run at\", now());\n      run_inline_js();\n    });\n  }\n}(window));"
     },
     "metadata": {},
     "output_type": "display_data"
    },
    {
     "data": {
      "text/html": [
       "\n",
       "\n",
       "\n",
       "\n",
       "\n",
       "\n",
       "  <div class=\"bk-root\" id=\"4de8d915-a0e5-4ec0-bad9-1fe66e469d63\" data-root-id=\"2421\"></div>\n"
      ]
     },
     "metadata": {},
     "output_type": "display_data"
    },
    {
     "data": {
      "application/javascript": [
       "(function(root) {\n",
       "  function embed_document(root) {\n",
       "    \n",
       "  var docs_json = {\"69f3bad2-e597-4ece-bda3-1841c144899c\":{\"roots\":{\"references\":[{\"attributes\":{\"below\":[{\"id\":\"2431\",\"type\":\"DatetimeAxis\"}],\"left\":[{\"id\":\"2436\",\"type\":\"LinearAxis\"}],\"renderers\":[{\"id\":\"2431\",\"type\":\"DatetimeAxis\"},{\"id\":\"2435\",\"type\":\"Grid\"},{\"id\":\"2436\",\"type\":\"LinearAxis\"},{\"id\":\"2440\",\"type\":\"Grid\"},{\"id\":\"2449\",\"type\":\"BoxAnnotation\"},{\"id\":\"2452\",\"type\":\"BoxAnnotation\"},{\"id\":\"2461\",\"type\":\"GlyphRenderer\"}],\"title\":{\"id\":\"2420\",\"type\":\"Title\"},\"toolbar\":{\"id\":\"2447\",\"type\":\"Toolbar\"},\"x_range\":{\"id\":\"2423\",\"type\":\"DataRange1d\"},\"x_scale\":{\"id\":\"2427\",\"type\":\"LinearScale\"},\"y_range\":{\"id\":\"2425\",\"type\":\"DataRange1d\"},\"y_scale\":{\"id\":\"2429\",\"type\":\"LinearScale\"}},\"id\":\"2421\",\"subtype\":\"Figure\",\"type\":\"Plot\"},{\"attributes\":{\"months\":[0,4,8]},\"id\":\"2522\",\"type\":\"MonthsTicker\"},{\"attributes\":{\"dimension\":1,\"plot\":{\"id\":\"2421\",\"subtype\":\"Figure\",\"type\":\"Plot\"},\"ticker\":{\"id\":\"2437\",\"type\":\"BasicTicker\"}},\"id\":\"2440\",\"type\":\"Grid\"},{\"attributes\":{\"axis_label\":\"Number of flights\",\"formatter\":{\"id\":\"2511\",\"type\":\"BasicTickFormatter\"},\"plot\":{\"id\":\"2421\",\"subtype\":\"Figure\",\"type\":\"Plot\"},\"ticker\":{\"id\":\"2437\",\"type\":\"BasicTicker\"}},\"id\":\"2436\",\"type\":\"LinearAxis\"},{\"attributes\":{},\"id\":\"2525\",\"type\":\"UnionRenderers\"},{\"attributes\":{\"line_color\":\"#1f77b4\",\"x\":{\"field\":\"datetime\"},\"y\":{\"field\":\"len\"}},\"id\":\"2459\",\"type\":\"Line\"},{\"attributes\":{\"days\":[1,4,7,10,13,16,19,22,25,28]},\"id\":\"2517\",\"type\":\"DaysTicker\"},{\"attributes\":{},\"id\":\"2509\",\"type\":\"DatetimeTickFormatter\"},{\"attributes\":{},\"id\":\"2441\",\"type\":\"PanTool\"},{\"attributes\":{},\"id\":\"2442\",\"type\":\"WheelZoomTool\"},{\"attributes\":{\"days\":[1,8,15,22]},\"id\":\"2518\",\"type\":\"DaysTicker\"},{\"attributes\":{\"overlay\":{\"id\":\"2449\",\"type\":\"BoxAnnotation\"}},\"id\":\"2443\",\"type\":\"BoxZoomTool\"},{\"attributes\":{\"callback\":null,\"overlay\":{\"id\":\"2452\",\"type\":\"BoxAnnotation\"}},\"id\":\"2444\",\"type\":\"BoxSelectTool\"},{\"attributes\":{\"base\":60,\"mantissas\":[1,2,5,10,15,20,30],\"max_interval\":1800000.0,\"min_interval\":1000.0,\"num_minor_ticks\":0},\"id\":\"2514\",\"type\":\"AdaptiveTicker\"},{\"attributes\":{},\"id\":\"2437\",\"type\":\"BasicTicker\"},{\"attributes\":{},\"id\":\"2445\",\"type\":\"ResetTool\"},{\"attributes\":{\"days\":[1,15]},\"id\":\"2519\",\"type\":\"DaysTicker\"},{\"attributes\":{},\"id\":\"2446\",\"type\":\"SaveTool\"},{\"attributes\":{\"days\":[1,2,3,4,5,6,7,8,9,10,11,12,13,14,15,16,17,18,19,20,21,22,23,24,25,26,27,28,29,30,31]},\"id\":\"2516\",\"type\":\"DaysTicker\"},{\"attributes\":{\"active_drag\":\"auto\",\"active_inspect\":\"auto\",\"active_multi\":null,\"active_scroll\":\"auto\",\"active_tap\":\"auto\",\"tools\":[{\"id\":\"2441\",\"type\":\"PanTool\"},{\"id\":\"2442\",\"type\":\"WheelZoomTool\"},{\"id\":\"2443\",\"type\":\"BoxZoomTool\"},{\"id\":\"2444\",\"type\":\"BoxSelectTool\"},{\"id\":\"2445\",\"type\":\"ResetTool\"},{\"id\":\"2446\",\"type\":\"SaveTool\"},{\"id\":\"2463\",\"type\":\"HoverTool\"}]},\"id\":\"2447\",\"type\":\"Toolbar\"},{\"attributes\":{\"base\":24,\"mantissas\":[1,2,4,6,8,12],\"max_interval\":43200000.0,\"min_interval\":3600000.0,\"num_minor_ticks\":0},\"id\":\"2515\",\"type\":\"AdaptiveTicker\"},{\"attributes\":{},\"id\":\"2511\",\"type\":\"BasicTickFormatter\"},{\"attributes\":{\"line_alpha\":0.1,\"line_color\":\"#1f77b4\",\"x\":{\"field\":\"datetime\"},\"y\":{\"field\":\"len\"}},\"id\":\"2460\",\"type\":\"Line\"},{\"attributes\":{\"mantissas\":[1,2,5],\"max_interval\":500.0,\"num_minor_ticks\":0},\"id\":\"2513\",\"type\":\"AdaptiveTicker\"},{\"attributes\":{\"bottom_units\":\"screen\",\"fill_alpha\":{\"value\":0.5},\"fill_color\":{\"value\":\"lightgrey\"},\"left_units\":\"screen\",\"level\":\"overlay\",\"line_alpha\":{\"value\":1.0},\"line_color\":{\"value\":\"black\"},\"line_dash\":[4,4],\"line_width\":{\"value\":2},\"plot\":null,\"render_mode\":\"css\",\"right_units\":\"screen\",\"top_units\":\"screen\"},\"id\":\"2449\",\"type\":\"BoxAnnotation\"},{\"attributes\":{\"callback\":null},\"id\":\"2423\",\"type\":\"DataRange1d\"},{\"attributes\":{\"callback\":null,\"data\":{\"datetime\":{\"__ndarray__\":\"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\",\"dtype\":\"float64\",\"shape\":[200]},\"index\":[0,1,2,3,4,5,6,7,8,9,10,11,12,13,14,15,16,17,18,19,20,21,22,23,24,25,26,27,28,29,30,31,32,33,34,35,36,37,38,39,40,41,42,43,44,45,46,47,48,49,50,51,52,53,54,55,56,57,58,59,60,61,62,63,64,65,66,67,68,69,70,71,72,73,74,75,76,77,78,79,80,81,82,83,84,85,86,87,88,89,90,91,92,93,94,95,96,97,98,99,100,101,102,103,104,105,106,107,108,109,110,111,112,113,114,115,116,117,118,119,120,121,122,123,124,125,126,127,128,129,130,131,132,133,134,135,136,137,138,139,140,141,142,143,144,145,146,147,148,149,150,151,152,153,154,155,156,157,158,159,160,161,162,163,164,165,166,167,168,169,170,171,172,173,174,175,176,177,178,179,180,181,182,183,184,185,186,187,188,189,190,191,192,193,194,195,196,197,198,199],\"len\":[1,1,1,1,1,1,1,1,1,1,1,1,1,1,1,1,1,1,1,1,1,1,1,1,1,1,1,1,1,1,1,1,1,1,1,1,1,1,1,1,1,1,1,1,1,1,1,1,1,1,1,1,1,1,1,1,1,1,1,1,1,1,1,1,1,1,1,1,1,1,1,1,1,1,1,1,1,1,1,1,1,1,1,1,1,1,1,1,1,1,1,1,1,1,1,1,1,1,1,1,1,1,1,1,1,1,1,1,1,1,1,1,1,1,1,1,1,1,1,1,1,1,1,1,1,1,1,1,1,1,1,1,1,1,1,1,1,1,1,1,1,1,1,1,1,1,1,1,1,1,1,1,1,1,1,1,1,1,1,1,1,1,1,1,1,1,1,1,1,1,1,1,1,1,1,1,1,1,1,1,1,1,1,1,1,1,1,1,1,1,1,1,1,1,1,1,1,1,1,1]},\"selected\":{\"id\":\"2526\",\"type\":\"Selection\"},\"selection_policy\":{\"id\":\"2525\",\"type\":\"UnionRenderers\"}},\"id\":\"2419\",\"type\":\"ColumnDataSource\"},{\"attributes\":{\"months\":[0,1,2,3,4,5,6,7,8,9,10,11]},\"id\":\"2520\",\"type\":\"MonthsTicker\"},{\"attributes\":{\"num_minor_ticks\":5,\"tickers\":[{\"id\":\"2513\",\"type\":\"AdaptiveTicker\"},{\"id\":\"2514\",\"type\":\"AdaptiveTicker\"},{\"id\":\"2515\",\"type\":\"AdaptiveTicker\"},{\"id\":\"2516\",\"type\":\"DaysTicker\"},{\"id\":\"2517\",\"type\":\"DaysTicker\"},{\"id\":\"2518\",\"type\":\"DaysTicker\"},{\"id\":\"2519\",\"type\":\"DaysTicker\"},{\"id\":\"2520\",\"type\":\"MonthsTicker\"},{\"id\":\"2521\",\"type\":\"MonthsTicker\"},{\"id\":\"2522\",\"type\":\"MonthsTicker\"},{\"id\":\"2523\",\"type\":\"MonthsTicker\"},{\"id\":\"2524\",\"type\":\"YearsTicker\"}]},\"id\":\"2432\",\"type\":\"DatetimeTicker\"},{\"attributes\":{},\"id\":\"2526\",\"type\":\"Selection\"},{\"attributes\":{\"bottom_units\":\"screen\",\"fill_alpha\":{\"value\":0.5},\"fill_color\":{\"value\":\"lightgrey\"},\"left_units\":\"screen\",\"level\":\"overlay\",\"line_alpha\":{\"value\":1.0},\"line_color\":{\"value\":\"black\"},\"line_dash\":[4,4],\"line_width\":{\"value\":2},\"plot\":null,\"render_mode\":\"css\",\"right_units\":\"screen\",\"top_units\":\"screen\"},\"id\":\"2452\",\"type\":\"BoxAnnotation\"},{\"attributes\":{\"plot\":null,\"text\":\"Graph 1: Number of flights per day in 2008\"},\"id\":\"2420\",\"type\":\"Title\"},{\"attributes\":{\"callback\":null},\"id\":\"2425\",\"type\":\"DataRange1d\"},{\"attributes\":{\"data_source\":{\"id\":\"2419\",\"type\":\"ColumnDataSource\"},\"glyph\":{\"id\":\"2459\",\"type\":\"Line\"},\"hover_glyph\":null,\"muted_glyph\":null,\"nonselection_glyph\":{\"id\":\"2460\",\"type\":\"Line\"},\"selection_glyph\":null,\"view\":{\"id\":\"2462\",\"type\":\"CDSView\"}},\"id\":\"2461\",\"type\":\"GlyphRenderer\"},{\"attributes\":{},\"id\":\"2427\",\"type\":\"LinearScale\"},{\"attributes\":{\"source\":{\"id\":\"2419\",\"type\":\"ColumnDataSource\"}},\"id\":\"2462\",\"type\":\"CDSView\"},{\"attributes\":{\"months\":[0,6]},\"id\":\"2523\",\"type\":\"MonthsTicker\"},{\"attributes\":{},\"id\":\"2429\",\"type\":\"LinearScale\"},{\"attributes\":{\"callback\":null,\"formatters\":{\"datetime\":\"datetime\"},\"tooltips\":[[\"datetime\",\"@datetime{%F}\"],[\"len\",\"@len\"]]},\"id\":\"2463\",\"type\":\"HoverTool\"},{\"attributes\":{\"months\":[0,2,4,6,8,10]},\"id\":\"2521\",\"type\":\"MonthsTicker\"},{\"attributes\":{\"axis_label\":\"Date\",\"formatter\":{\"id\":\"2509\",\"type\":\"DatetimeTickFormatter\"},\"plot\":{\"id\":\"2421\",\"subtype\":\"Figure\",\"type\":\"Plot\"},\"ticker\":{\"id\":\"2432\",\"type\":\"DatetimeTicker\"}},\"id\":\"2431\",\"type\":\"DatetimeAxis\"},{\"attributes\":{},\"id\":\"2524\",\"type\":\"YearsTicker\"},{\"attributes\":{\"grid_line_color\":{\"value\":null},\"plot\":{\"id\":\"2421\",\"subtype\":\"Figure\",\"type\":\"Plot\"},\"ticker\":{\"id\":\"2432\",\"type\":\"DatetimeTicker\"}},\"id\":\"2435\",\"type\":\"Grid\"}],\"root_ids\":[\"2421\"]},\"title\":\"Bokeh Application\",\"version\":\"1.0.4\"}};\n",
       "  var render_items = [{\"docid\":\"69f3bad2-e597-4ece-bda3-1841c144899c\",\"roots\":{\"2421\":\"4de8d915-a0e5-4ec0-bad9-1fe66e469d63\"}}];\n",
       "  root.Bokeh.embed.embed_items_notebook(docs_json, render_items);\n",
       "\n",
       "  }\n",
       "  if (root.Bokeh !== undefined) {\n",
       "    embed_document(root);\n",
       "  } else {\n",
       "    var attempts = 0;\n",
       "    var timer = setInterval(function(root) {\n",
       "      if (root.Bokeh !== undefined) {\n",
       "        embed_document(root);\n",
       "        clearInterval(timer);\n",
       "      }\n",
       "      attempts++;\n",
       "      if (attempts > 100) {\n",
       "        console.log(\"Bokeh: ERROR: Unable to run BokehJS code because BokehJS library is missing\");\n",
       "        clearInterval(timer);\n",
       "      }\n",
       "    }, 10, root)\n",
       "  }\n",
       "})(window);"
      ],
      "application/vnd.bokehjs_exec.v0+json": ""
     },
     "metadata": {
      "application/vnd.bokehjs_exec.v0+json": {
       "id": "2421"
      }
     },
     "output_type": "display_data"
    }
   ],
   "source": [
    "# Graph has date on the x-axis\n",
    "p = figure(title=\"Graph 1: Number of flights per day in 2008\", x_axis_type='datetime',tools = TOOLS)\n",
    "\n",
    "p.line(x='datetime', y='len', source=source) #build a line chart\n",
    "p.xaxis.axis_label = 'Date'\n",
    "p.yaxis.axis_label = 'Number of flights'\n",
    "\n",
    "p.xgrid.grid_line_color = None\n",
    "\n",
    "# add a hover tool and show the date in date time format\n",
    "hover = HoverTool()\n",
    "hover.tooltips=[\n",
    "    ('datetime', '@datetime{%F}'),\n",
    "    ('len', '@len')\n",
    "]\n",
    "hover.formatters = {'datetime': 'datetime'}\n",
    "p.add_tools(hover)\n",
    "output_notebook() # show the output in jupyter notebook\n",
    "show(p)"
   ]
  },
  {
   "cell_type": "code",
   "execution_count": null,
   "metadata": {},
   "outputs": [],
   "source": []
  }
 ],
 "metadata": {
  "kernelspec": {
   "display_name": "Python 3",
   "language": "python",
   "name": "python3"
  },
  "language_info": {
   "codemirror_mode": {
    "name": "ipython",
    "version": 3
   },
   "file_extension": ".py",
   "mimetype": "text/x-python",
   "name": "python",
   "nbconvert_exporter": "python",
   "pygments_lexer": "ipython3",
   "version": "3.7.3"
  }
 },
 "nbformat": 4,
 "nbformat_minor": 2
}
